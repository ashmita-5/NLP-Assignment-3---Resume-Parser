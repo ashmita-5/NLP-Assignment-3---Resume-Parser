{
 "cells": [
  {
   "attachments": {},
   "cell_type": "markdown",
   "metadata": {},
   "source": [
    "# Resume Parsing"
   ]
  },
  {
   "cell_type": "markdown",
   "metadata": {},
   "source": [
    "## 1. Load data"
   ]
  },
  {
   "cell_type": "code",
   "execution_count": 2,
   "metadata": {},
   "outputs": [],
   "source": [
    "import pandas as pd\n",
    "import numpy as np\n",
    "\n",
    "df_resume = pd.read_csv(\"resume.csv\")"
   ]
  },
  {
   "cell_type": "code",
   "execution_count": 3,
   "metadata": {},
   "outputs": [
    {
     "data": {
      "text/plain": [
       "array(['HR', 'DESIGNER', 'INFORMATION-TECHNOLOGY', 'TEACHER', 'ADVOCATE',\n",
       "       'BUSINESS-DEVELOPMENT', 'HEALTHCARE', 'FITNESS', 'AGRICULTURE',\n",
       "       'BPO', 'SALES', 'CONSULTANT', 'DIGITAL-MEDIA', 'AUTOMOBILE',\n",
       "       'CHEF', 'FINANCE', 'APPAREL', 'ENGINEERING', 'ACCOUNTANT',\n",
       "       'CONSTRUCTION', 'PUBLIC-RELATIONS', 'BANKING', 'ARTS', 'AVIATION'],\n",
       "      dtype=object)"
      ]
     },
     "execution_count": 3,
     "metadata": {},
     "output_type": "execute_result"
    }
   ],
   "source": [
    "df_resume.Category.unique()"
   ]
  },
  {
   "cell_type": "code",
   "execution_count": 4,
   "metadata": {},
   "outputs": [
    {
     "data": {
      "text/plain": [
       "(2484, 4)"
      ]
     },
     "execution_count": 4,
     "metadata": {},
     "output_type": "execute_result"
    }
   ],
   "source": [
    "df_resume.shape"
   ]
  },
  {
   "cell_type": "code",
   "execution_count": 5,
   "metadata": {},
   "outputs": [
    {
     "data": {
      "text/plain": [
       "(1000, 4)"
      ]
     },
     "execution_count": 5,
     "metadata": {},
     "output_type": "execute_result"
    }
   ],
   "source": [
    "df_resume = df_resume.reindex(np.random.permutation(df_resume.index))\n",
    "df_resume = df_resume.copy().iloc[:1000, ]\n",
    "df_resume.shape"
   ]
  },
  {
   "attachments": {},
   "cell_type": "markdown",
   "metadata": {},
   "source": [
    "## 2. Load skill data\n"
   ]
  },
  {
   "cell_type": "code",
   "execution_count": 6,
   "metadata": {},
   "outputs": [],
   "source": [
    "import spacy\n",
    "\n",
    "nlp = spacy.load('en_core_web_md')\n",
    "skill_path = 'skills_educations.jsonl'"
   ]
  },
  {
   "cell_type": "code",
   "execution_count": 7,
   "metadata": {},
   "outputs": [
    {
     "data": {
      "text/plain": [
       "['tok2vec',\n",
       " 'tagger',\n",
       " 'parser',\n",
       " 'attribute_ruler',\n",
       " 'lemmatizer',\n",
       " 'ner',\n",
       " 'entity_ruler']"
      ]
     },
     "execution_count": 7,
     "metadata": {},
     "output_type": "execute_result"
    }
   ],
   "source": [
    "ruler = nlp.add_pipe(\"entity_ruler\")\n",
    "ruler.from_disk(skill_path)\n",
    "nlp.pipe_names"
   ]
  },
  {
   "cell_type": "code",
   "execution_count": 8,
   "metadata": {},
   "outputs": [
    {
     "data": {
      "text/plain": [
       "(Chaky, ajax)"
      ]
     },
     "execution_count": 8,
     "metadata": {},
     "output_type": "execute_result"
    }
   ],
   "source": [
    "doc = nlp(\"Chaky loves ajax.\")\n",
    "doc.ents"
   ]
  },
  {
   "cell_type": "markdown",
   "metadata": {},
   "source": [
    "## 3. Let's try to extract skills from this resume.csv"
   ]
  },
  {
   "cell_type": "code",
   "execution_count": 9,
   "metadata": {},
   "outputs": [
    {
     "data": {
      "text/html": [
       "<div>\n",
       "<style scoped>\n",
       "    .dataframe tbody tr th:only-of-type {\n",
       "        vertical-align: middle;\n",
       "    }\n",
       "\n",
       "    .dataframe tbody tr th {\n",
       "        vertical-align: top;\n",
       "    }\n",
       "\n",
       "    .dataframe thead th {\n",
       "        text-align: right;\n",
       "    }\n",
       "</style>\n",
       "<table border=\"1\" class=\"dataframe\">\n",
       "  <thead>\n",
       "    <tr style=\"text-align: right;\">\n",
       "      <th></th>\n",
       "      <th>ID</th>\n",
       "      <th>Resume_str</th>\n",
       "      <th>Resume_html</th>\n",
       "      <th>Category</th>\n",
       "    </tr>\n",
       "  </thead>\n",
       "  <tbody>\n",
       "    <tr>\n",
       "      <th>2094</th>\n",
       "      <td>37375999</td>\n",
       "      <td>OWNER         Summary     Dynamic eve...</td>\n",
       "      <td>&lt;div class=\"fontsize fontface vmargins hmargin...</td>\n",
       "      <td>PUBLIC-RELATIONS</td>\n",
       "    </tr>\n",
       "    <tr>\n",
       "      <th>2009</th>\n",
       "      <td>12666174</td>\n",
       "      <td>REGIONAL SCHEDULE MANAGER           S...</td>\n",
       "      <td>&lt;div class=\"fontsize fontface vmargins hmargin...</td>\n",
       "      <td>CONSTRUCTION</td>\n",
       "    </tr>\n",
       "    <tr>\n",
       "      <th>496</th>\n",
       "      <td>37560528</td>\n",
       "      <td>DOMESTIC VIOLENCE COUNSELOR ADVOCATE ...</td>\n",
       "      <td>&lt;div class=\"fontsize fontface vmargins hmargin...</td>\n",
       "      <td>ADVOCATE</td>\n",
       "    </tr>\n",
       "    <tr>\n",
       "      <th>1653</th>\n",
       "      <td>22249155</td>\n",
       "      <td>EMBROIDERY MACHINE OPERATOR       Sum...</td>\n",
       "      <td>&lt;div class=\"fontsize fontface vmargins hmargin...</td>\n",
       "      <td>APPAREL</td>\n",
       "    </tr>\n",
       "    <tr>\n",
       "      <th>1097</th>\n",
       "      <td>34131484</td>\n",
       "      <td>SALES ASSOCIATE           Summary    ...</td>\n",
       "      <td>&lt;div class=\"fontsize fontface vmargins hmargin...</td>\n",
       "      <td>SALES</td>\n",
       "    </tr>\n",
       "  </tbody>\n",
       "</table>\n",
       "</div>"
      ],
      "text/plain": [
       "            ID                                         Resume_str  \\\n",
       "2094  37375999           OWNER         Summary     Dynamic eve...   \n",
       "2009  12666174           REGIONAL SCHEDULE MANAGER           S...   \n",
       "496   37560528           DOMESTIC VIOLENCE COUNSELOR ADVOCATE ...   \n",
       "1653  22249155           EMBROIDERY MACHINE OPERATOR       Sum...   \n",
       "1097  34131484           SALES ASSOCIATE           Summary    ...   \n",
       "\n",
       "                                            Resume_html          Category  \n",
       "2094  <div class=\"fontsize fontface vmargins hmargin...  PUBLIC-RELATIONS  \n",
       "2009  <div class=\"fontsize fontface vmargins hmargin...      CONSTRUCTION  \n",
       "496   <div class=\"fontsize fontface vmargins hmargin...          ADVOCATE  \n",
       "1653  <div class=\"fontsize fontface vmargins hmargin...           APPAREL  \n",
       "1097  <div class=\"fontsize fontface vmargins hmargin...             SALES  "
      ]
     },
     "execution_count": 9,
     "metadata": {},
     "output_type": "execute_result"
    }
   ],
   "source": [
    "df_resume.head()"
   ]
  },
  {
   "cell_type": "code",
   "execution_count": 16,
   "metadata": {},
   "outputs": [],
   "source": [
    "#clean our data\n",
    "from spacy.lang.en.stop_words import STOP_WORDS\n",
    "\n",
    "def preprocessing(sentence):\n",
    "    stopwords    = list(STOP_WORDS)\n",
    "    doc          = nlp(sentence)\n",
    "    clean_tokens = []\n",
    "    \n",
    "    for token in doc:\n",
    "        if token.text not in stopwords and token.pos_ != 'PUNCT' and token.pos_ != 'SYM' and \\\n",
    "            token.pos_ != 'SPACE':\n",
    "                clean_tokens.append(token.lemma_.lower().strip())\n",
    "                \n",
    "    return \" \".join(clean_tokens)"
   ]
  },
  {
   "cell_type": "code",
   "execution_count": 17,
   "metadata": {},
   "outputs": [
    {
     "data": {
      "text/plain": [
       "'         PATIENT ADVOCATE           Summary    Seeking an opportunity in an Management/HR Department\\xa0where my professional\\xa0experience and education will allow me to make an immediate contribution, as an integral part of a progressive organization.      Education and Training        HealthCare Admini'"
      ]
     },
     "execution_count": 17,
     "metadata": {},
     "output_type": "execute_result"
    }
   ],
   "source": [
    "random_resume = df_resume.Resume_str.iloc[5]\n",
    "random_resume[:300]"
   ]
  },
  {
   "cell_type": "code",
   "execution_count": 12,
   "metadata": {},
   "outputs": [
    {
     "data": {
      "text/plain": [
       "'patient advocate summary seek opportunity management hr department professional experience education allow immediate contribution integral progressive organization education training healthcare admini'"
      ]
     },
     "execution_count": 12,
     "metadata": {},
     "output_type": "execute_result"
    }
   ],
   "source": [
    "preprocessing(random_resume[:300])"
   ]
  },
  {
   "cell_type": "code",
   "execution_count": 13,
   "metadata": {},
   "outputs": [
    {
     "name": "stderr",
     "output_type": "stream",
     "text": [
      "/var/folders/1k/8gzncvpj6vv5lbdb28yjgdyh0000gn/T/ipykernel_36950/1721952070.py:3: FutureWarning: Setting an item of incompatible dtype is deprecated and will raise in a future error of pandas. Value 'owner summary dynamic event planner communication professional look anti - desk job my main passion life travel food create event experience specifically food i live us multiple country i work multiple restaurant reflect resume i happy send list place i work i spend year work chef author cookbook publish world nyc cook italian grandmothers iacp ippy winner afield james beard nominated off menu primal cuts make america i work justfood.org jessica gaffney former director marketing multiple event i plan the butcher guild conference napa i create workshop chicago call sustainable city cooking school off menu book tour i responsible garner press sponsorship partnership cookbook event highlight work multiple event relate cookbook food justfood.org ark endeavors thrillist jack threads accomplishment garner extensive press author expert product course year publishing pr space create hundred event country include small successful future food conference chicago 50 restaurant event italian restaurant country 50 restaurant event restaurant participate cookbook butcher guild conference napa work marketing director justfood.org create great experience googamooga work thrillist create the culinary road trip bring chef country offer la food experience backyard experience company name april 2015 current owner city state currently work boulder base publisher fitness expert social medium chef non - profit organization social medium strategy email marketing mailchimp press outreach cision research example press placements daily mail inside edition pende narratively new york daily news company name september 2014 may 2015 publicist account manager city state identify client need market research analysis researched negotiate implement track public relation activity evaluate manage new strategic business opportunity expand product company recognition national press support sale marketing effort craft pitch pitch medium list create social media strategy include contest giveaway client example press placements the boston globe time magazine the daily mail new york daily news npr marketplace forbes com today.com women health success magazine company name march 2014 september 2015 event logistics manager & communications coordinator city state logistics manager event thrillist media group include best day your life thriillst culinary roadtrip mixxtails man cave cooperation bud light bring busy season company name march 2014 september 2014 communications events coordinator city state work hand hand founder create produce annual conference successfully identify land sponsorship reach member ensure attendance contribution conference managed budget manged communication cooperation co - founder company name march 2013 march 2014 communications manager project manager product manager city state define project company vision strategy tactic coach client representative effective communication public employee establish long range objective develop innovative strategy help achieve act communication liaison ceo upper level management founder software development team include ux ui manager estimate project cost monitor budget develop corporate communication strategy program include project timeline write report daily organize lead meeting company name june 2009 march 2013 publicist author book tour coordinator city state researched negotiate implement track sale marketing public relation activity google analytic fb insight resource evaluate manage new strategic business opportunity expand product company recognition national press support sale marketing effort random house confer production graphic design web design team coordinate production communication material work directly publisher associate publisher senior editor example press placements npr the splendid table jamie magazine the new york times wall street journal washington post company name june 2008 april 2010 social media manager city state handle social medium responsibility work directly deborah madison education st. john college 2009 bachelor of arts city state the great books western civilization www.sjcsf.edu affiliations new york women culinary alliance www.nywca.org/ skill event management email marketing project management community management communication social medium' has dtype incompatible with float64, please explicitly cast to a compatible dtype first.\n",
      "  df_resume.at[i, 'Clean_resume'] = clean_text\n"
     ]
    }
   ],
   "source": [
    "for i, row in df_resume.iterrows():\n",
    "    clean_text = preprocessing(row.Resume_str)\n",
    "    df_resume.at[i, 'Clean_resume'] = clean_text"
   ]
  },
  {
   "cell_type": "code",
   "execution_count": 16,
   "metadata": {},
   "outputs": [
    {
     "data": {
      "text/html": [
       "<div>\n",
       "<style scoped>\n",
       "    .dataframe tbody tr th:only-of-type {\n",
       "        vertical-align: middle;\n",
       "    }\n",
       "\n",
       "    .dataframe tbody tr th {\n",
       "        vertical-align: top;\n",
       "    }\n",
       "\n",
       "    .dataframe thead th {\n",
       "        text-align: right;\n",
       "    }\n",
       "</style>\n",
       "<table border=\"1\" class=\"dataframe\">\n",
       "  <thead>\n",
       "    <tr style=\"text-align: right;\">\n",
       "      <th></th>\n",
       "      <th>ID</th>\n",
       "      <th>Resume_str</th>\n",
       "      <th>Resume_html</th>\n",
       "      <th>Category</th>\n",
       "      <th>Clean_resume</th>\n",
       "    </tr>\n",
       "  </thead>\n",
       "  <tbody>\n",
       "    <tr>\n",
       "      <th>456</th>\n",
       "      <td>49486820</td>\n",
       "      <td>BENEFIT ADVOCATE           Career Ove...</td>\n",
       "      <td>&lt;div class=\"fontsize fontface vmargins hmargin...</td>\n",
       "      <td>ADVOCATE</td>\n",
       "      <td>benefit advocate career overview customer serv...</td>\n",
       "    </tr>\n",
       "    <tr>\n",
       "      <th>1265</th>\n",
       "      <td>34319869</td>\n",
       "      <td>GLOBAL DIGITAL SERVICING ~ DIGITAL ON...</td>\n",
       "      <td>&lt;div class=\"fontsize fontface vmargins hmargin...</td>\n",
       "      <td>DIGITAL-MEDIA</td>\n",
       "      <td>global digital servicing digital onboarding co...</td>\n",
       "    </tr>\n",
       "    <tr>\n",
       "      <th>1925</th>\n",
       "      <td>82649935</td>\n",
       "      <td>SENIOR ACCOUNTANT           Summary  ...</td>\n",
       "      <td>&lt;div class=\"fontsize fontface vmargins hmargin...</td>\n",
       "      <td>ACCOUNTANT</td>\n",
       "      <td>senior accountant summary a highly competent m...</td>\n",
       "    </tr>\n",
       "    <tr>\n",
       "      <th>1031</th>\n",
       "      <td>22047665</td>\n",
       "      <td>SALES MANAGER       Summary        Se...</td>\n",
       "      <td>&lt;div class=\"fontsize fontface vmargins hmargin...</td>\n",
       "      <td>SALES</td>\n",
       "      <td>sales manager summary service focus profession...</td>\n",
       "    </tr>\n",
       "    <tr>\n",
       "      <th>1749</th>\n",
       "      <td>16911115</td>\n",
       "      <td>BIOMEDICAL ENGINEERING TECHNICIAN II ...</td>\n",
       "      <td>&lt;div class=\"fontsize fontface vmargins hmargin...</td>\n",
       "      <td>ENGINEERING</td>\n",
       "      <td>biomedical engineer technician ii professional...</td>\n",
       "    </tr>\n",
       "  </tbody>\n",
       "</table>\n",
       "</div>"
      ],
      "text/plain": [
       "            ID                                         Resume_str  \\\n",
       "456   49486820           BENEFIT ADVOCATE           Career Ove...   \n",
       "1265  34319869           GLOBAL DIGITAL SERVICING ~ DIGITAL ON...   \n",
       "1925  82649935           SENIOR ACCOUNTANT           Summary  ...   \n",
       "1031  22047665           SALES MANAGER       Summary        Se...   \n",
       "1749  16911115           BIOMEDICAL ENGINEERING TECHNICIAN II ...   \n",
       "\n",
       "                                            Resume_html       Category  \\\n",
       "456   <div class=\"fontsize fontface vmargins hmargin...       ADVOCATE   \n",
       "1265  <div class=\"fontsize fontface vmargins hmargin...  DIGITAL-MEDIA   \n",
       "1925  <div class=\"fontsize fontface vmargins hmargin...     ACCOUNTANT   \n",
       "1031  <div class=\"fontsize fontface vmargins hmargin...          SALES   \n",
       "1749  <div class=\"fontsize fontface vmargins hmargin...    ENGINEERING   \n",
       "\n",
       "                                           Clean_resume  \n",
       "456   benefit advocate career overview customer serv...  \n",
       "1265  global digital servicing digital onboarding co...  \n",
       "1925  senior accountant summary a highly competent m...  \n",
       "1031  sales manager summary service focus profession...  \n",
       "1749  biomedical engineer technician ii professional...  "
      ]
     },
     "execution_count": 16,
     "metadata": {},
     "output_type": "execute_result"
    }
   ],
   "source": [
    "df_resume.head()"
   ]
  },
  {
   "cell_type": "markdown",
   "metadata": {},
   "source": [
    "## 4. Let's really extract skills!!"
   ]
  },
  {
   "cell_type": "code",
   "execution_count": 18,
   "metadata": {},
   "outputs": [],
   "source": [
    "from spacy.matcher import Matcher\n",
    "\n",
    "def extract_emails(text):\n",
    "    doc = nlp(text)\n",
    "    matcher = Matcher(nlp.vocab)\n",
    "\n",
    "    email_pattern = [{'TEXT': {'REGEX': r'\\b[A-Za-z0-9._%+-]+@[A-Za-z0-9.-]+\\.[A-Z|a-z]{2,}\\b'}}]\n",
    "    matcher.add('EMAIL', [email_pattern])\n",
    "\n",
    "    emails = []\n",
    "    matches = matcher(doc)\n",
    "    for match_id, start, end in matches:\n",
    "        emails.append(doc[start:end].text)\n",
    "\n",
    "    return emails"
   ]
  },
  {
   "cell_type": "code",
   "execution_count": 19,
   "metadata": {},
   "outputs": [],
   "source": [
    "def extract_entities(text):\n",
    "    \n",
    "    doc = nlp(text)\n",
    "    \n",
    "    skills = []\n",
    "    educations = []\n",
    "    \n",
    "    for ent in doc.ents:\n",
    "        if ent.label_ == \"EDUCATION\":\n",
    "            educations.append(ent.text)\n",
    "        if ent.label_ == \"SKILL\":\n",
    "            skills.append(ent.text)\n",
    "        \n",
    "            \n",
    "    skills = set(skills)\n",
    "    education = set(educations)\n",
    "    # Extract emails\n",
    "    emails = extract_emails(text)\n",
    "            \n",
    "    dict1 = {'education':education,'skills':skills, 'emails': emails}\n",
    "    #df = pd.DataFrame.from_dict(dict1, orient='index')\n",
    "    return dict1\n",
    "\n",
    "def unique_skills(x):\n",
    "    return list(set(x))"
   ]
  },
  {
   "cell_type": "markdown",
   "metadata": {},
   "source": [
    "## 7. Let's load the PDF - add some realism"
   ]
  },
  {
   "cell_type": "code",
   "execution_count": 20,
   "metadata": {},
   "outputs": [],
   "source": [
    "from PyPDF2 import PdfReader\n",
    "import pickle\n",
    "\n",
    "def readPDF(cv_path, page=0):\n",
    "    reader = PdfReader(cv_path)\n",
    "    page = reader.pages[page]\n",
    "    text = page.extract_text()\n",
    "    text = preprocessing(text)\n",
    "    doc = nlp(text)\n",
    "    entities = extract_entities(text)\n",
    "    return entities\n",
    "    "
   ]
  },
  {
   "cell_type": "code",
   "execution_count": 21,
   "metadata": {},
   "outputs": [
    {
     "name": "stdout",
     "output_type": "stream",
     "text": [
      "{'education': {'master'}, 'skills': {'wireless', 'database', 'python', 'redis', 'security', 'interaction', 'latex', 'tableau', 'computer science', 'component', 'data science', 'visualization', 'software', 'business', 'network security', 'data analysis', 'data warehouse', 'mongodb', 'business intelligence', 'neo4j', 'design', 'data mining', 'mysql'}, 'emails': ['ashmitaphuyal9@gmail.com']}\n"
     ]
    }
   ],
   "source": [
    "if __name__==\"__main__\":\n",
    "    df = readPDF('Ashmita_Phuyal_Resume.pdf')\n",
    "    print(df)"
   ]
  }
 ],
 "metadata": {
  "kernelspec": {
   "display_name": "dsai",
   "language": "python",
   "name": "python3"
  },
  "language_info": {
   "codemirror_mode": {
    "name": "ipython",
    "version": 3
   },
   "file_extension": ".py",
   "mimetype": "text/x-python",
   "name": "python",
   "nbconvert_exporter": "python",
   "pygments_lexer": "ipython3",
   "version": "3.11.4"
  },
  "orig_nbformat": 4,
  "vscode": {
   "interpreter": {
    "hash": "0f2c79af21be9d001248940c049b6176cf8bfb45cabf7aa85848f5cea0f590f6"
   }
  }
 },
 "nbformat": 4,
 "nbformat_minor": 2
}
